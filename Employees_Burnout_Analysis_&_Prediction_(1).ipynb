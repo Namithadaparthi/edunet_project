{
  "nbformat": 4,
  "nbformat_minor": 0,
  "metadata": {
    "colab": {
      "provenance": [],
      "include_colab_link": true
    },
    "kernelspec": {
      "name": "python3",
      "display_name": "Python 3"
    },
    "language_info": {
      "name": "python"
    }
  },
  "cells": [
    {
      "cell_type": "markdown",
      "metadata": {
        "id": "view-in-github",
        "colab_type": "text"
      },
      "source": [
        "<a href=\"https://colab.research.google.com/github/Namithadaparthi/edunet_project/blob/main/Employees_Burnout_Analysis_%26_Prediction_(1).ipynb\" target=\"_parent\"><img src=\"https://colab.research.google.com/assets/colab-badge.svg\" alt=\"Open In Colab\"/></a>"
      ]
    },
    {
      "cell_type": "markdown",
      "source": [
        "#Importing Libraries"
      ],
      "metadata": {
        "id": "mO__UsPM8WUf"
      }
    },
    {
      "cell_type": "code",
      "source": [
        "import warnings\n",
        "warnings.filterwarnings('ignore')"
      ],
      "metadata": {
        "id": "s0FWZRUX8iy9"
      },
      "execution_count": null,
      "outputs": []
    },
    {
      "cell_type": "code",
      "source": [
        "import pandas as pd\n",
        "import numpy as np"
      ],
      "metadata": {
        "id": "CeNXmikO7usn"
      },
      "execution_count": null,
      "outputs": []
    },
    {
      "cell_type": "code",
      "source": [
        "import seaborn as sns\n",
        "import matplotlib.pyplot as plt\n",
        "import plotly.express as px"
      ],
      "metadata": {
        "id": "5fdrKMfr704Z"
      },
      "execution_count": null,
      "outputs": []
    },
    {
      "cell_type": "code",
      "source": [
        "from google.colab import drive\n",
        "drive.mount('/content/drive')"
      ],
      "metadata": {
        "id": "81W7TBJS8OcN"
      },
      "execution_count": null,
      "outputs": []
    },
    {
      "cell_type": "markdown",
      "source": [
        "#Loading Dataset"
      ],
      "metadata": {
        "id": "6EMxsIh7-F1f"
      }
    },
    {
      "cell_type": "code",
      "source": [
        "pd.set_option('display.max_columns',None)\n",
        "burnoutDf=pd.read_csv('/content/drive/MyDrive/employee_burnout_analysis1.CSV')\n",
        "burnoutDf"
      ],
      "metadata": {
        "id": "Y0b8s2N7-NIf"
      },
      "execution_count": null,
      "outputs": []
    },
    {
      "cell_type": "code",
      "source": [
        "#convert into dateTime datatype\n",
        "burnoutDf[\"Date of Joining\"]=pd.to_datetime(burnoutDf[\"Date of Joining\"])"
      ],
      "metadata": {
        "id": "OECHe_UDA8TV"
      },
      "execution_count": null,
      "outputs": []
    },
    {
      "cell_type": "code",
      "source": [
        "#give the number of rows and columns\n",
        "burnoutDf.shape"
      ],
      "metadata": {
        "id": "ociNqB2EBRpe"
      },
      "execution_count": null,
      "outputs": []
    },
    {
      "cell_type": "code",
      "source": [
        "#general information\n",
        "burnoutDf.info()"
      ],
      "metadata": {
        "id": "R8DzvKCzBaso"
      },
      "execution_count": null,
      "outputs": []
    },
    {
      "cell_type": "code",
      "source": [
        "#show top 5 rows\n",
        "burnoutDf.head()"
      ],
      "metadata": {
        "id": "xION2q7eBo0Q"
      },
      "execution_count": null,
      "outputs": []
    },
    {
      "cell_type": "code",
      "source": [
        "#extract all columns of the dataset\n",
        "burnoutDf.columns"
      ],
      "metadata": {
        "id": "jeD_14TJBxHL"
      },
      "execution_count": null,
      "outputs": []
    },
    {
      "cell_type": "code",
      "source": [
        "# check for null values\n",
        "burnoutDf.isna().sum()"
      ],
      "metadata": {
        "id": "YeU7RVeVCBkW"
      },
      "execution_count": null,
      "outputs": []
    },
    {
      "cell_type": "code",
      "source": [
        "# check the duplicate values\n",
        "burnoutDf.duplicated().sum()"
      ],
      "metadata": {
        "id": "yNW6ZfVbCM-a"
      },
      "execution_count": null,
      "outputs": []
    },
    {
      "cell_type": "code",
      "source": [
        "# calculate the mean,std,min,max and count of every attributes\n",
        "burnoutDf.describe()"
      ],
      "metadata": {
        "id": "oQhaOhRUCY9_"
      },
      "execution_count": null,
      "outputs": []
    },
    {
      "cell_type": "code",
      "source": [
        "#show the unique values\n",
        "for i,col in enumerate(burnoutDf.columns):\n",
        "  print(f\"\\n\\n{burnoutDf[col].unique()}\")\n",
        "  print(f\"\\n{burnoutDf[col].value_counts()}\\n\\n\")"
      ],
      "metadata": {
        "id": "gV2sRVp-Cq6l"
      },
      "execution_count": null,
      "outputs": []
    },
    {
      "cell_type": "code",
      "source": [
        "# Drop irrelevant column\n",
        "burnoutDf=burnoutDf.drop(['Employee ID'],axis=1)"
      ],
      "metadata": {
        "id": "-_GGbizKDua9"
      },
      "execution_count": null,
      "outputs": []
    },
    {
      "cell_type": "code",
      "source": [
        "# check the skewness of the attributes\n",
        "intFloatburnoutDf=burnoutDf.select_dtypes([np.int,np.float])\n",
        "for i, col in enumerate(intFloatburnoutDf.columns):\n",
        "  if (intFloatburnoutDf[col].skew() >= 0.1):\n",
        "    print(\"\\n\",col, \"feature is Positively skewd and value is: \", intFloatburnoutDf[col].skew())\n",
        "  elif (intFloatburnoutDf[col].skew() <= 0.1):\n",
        "    print(\"\\n\",col, \"feature is Negatively skewd and value is: \", intFloatburnoutDf[col].skew())\n",
        "  else:\n",
        "    print(\"\\n\",col, \"feature is Normally Distributed and value is: \", intFloatburnoutDf[col].skew())"
      ],
      "metadata": {
        "id": "oV1blvxxFb7Q"
      },
      "execution_count": null,
      "outputs": []
    },
    {
      "cell_type": "code",
      "source": [
        "# Replace the null values with mean\n",
        "burnoutDf['Resource Allocation'].fillna(burnoutDf['Resource Allocation'].mean(),inplace=True)\n",
        "burnoutDf['Mental Fatigue Score'].fillna(burnoutDf['Mental Fatigue Score'].mean(),inplace=True)\n",
        "burnoutDf['Burn Rate'].fillna(burnoutDf['Burn Rate'].mean(),inplace=True)"
      ],
      "metadata": {
        "id": "INFD3bofHEFy"
      },
      "execution_count": null,
      "outputs": []
    },
    {
      "cell_type": "code",
      "source": [
        "# check for null values\n",
        "burnoutDf.isna().sum()"
      ],
      "metadata": {
        "id": "fpfKWrinIDPW"
      },
      "execution_count": null,
      "outputs": []
    },
    {
      "cell_type": "code",
      "source": [
        "#show the correlation\n",
        "burnoutDf.corr()"
      ],
      "metadata": {
        "id": "c_nfumEHIN1a"
      },
      "execution_count": null,
      "outputs": []
    },
    {
      "cell_type": "markdown",
      "source": [
        "#Data Visualization"
      ],
      "metadata": {
        "id": "x7C2_XYvIw92"
      }
    },
    {
      "cell_type": "code",
      "source": [
        "#plotting Heat map to check correlation\n",
        "Corr=burnoutDf.corr()\n",
        "sns.set(rc={'figure.figsize':(14,12)})\n",
        "fig=px.imshow(Corr, text_auto=True, aspect=\"auto\")\n",
        "fig.show()"
      ],
      "metadata": {
        "id": "U_kqaEvnI5Vv"
      },
      "execution_count": null,
      "outputs": []
    },
    {
      "cell_type": "code",
      "source": [
        "# count plot distribution of \"Gender\"\n",
        "plt.figure(figsize=(10,8))\n",
        "sns.countplot(x=\"Gender\", data=burnoutDf, palette=\"magma\")\n",
        "plt.title(\"Plot Distribution of Gender\")\n",
        "plt.show()"
      ],
      "metadata": {
        "id": "0MZmn13JJfOm"
      },
      "execution_count": null,
      "outputs": []
    },
    {
      "cell_type": "code",
      "source": [
        "# count plot distribution of \"Company Type\"\n",
        "plt.figure(figsize=(10,8))\n",
        "sns.countplot(x=\"Company Type\", data=burnoutDf, palette=\"Spectral\")\n",
        "plt.title(\"Plot Distribution of Company Type\")\n",
        "plt.show()"
      ],
      "metadata": {
        "id": "_jqiMB1aKuOP"
      },
      "execution_count": null,
      "outputs": []
    },
    {
      "cell_type": "code",
      "source": [
        "# count plot distribution of \"WFH Setup Available\"\n",
        "plt.figure(figsize=(10,8))\n",
        "sns.countplot(x=\"WFH Setup Available\", data=burnoutDf, palette=\"dark:salmon_r\")\n",
        "plt.title(\"Plot Distribution of WFH Setup Available\")\n",
        "plt.show()"
      ],
      "metadata": {
        "id": "usncEzypLDJq"
      },
      "execution_count": null,
      "outputs": []
    },
    {
      "cell_type": "code",
      "source": [
        "# Count plot Distribution of attributes with the help of Histogram\n",
        "burn_st=burnoutDf.loc[:,'Date of Joining':'Burn Rate']\n",
        "burn_st=burn_st.select_dtypes([int, float])\n",
        "for i, col in enumerate(burn_st.columns):\n",
        "  fig = px.histogram(burn_st, x=col, title=\"plot Distribution of \"+col,color_discrete_sequence=['indianred'])\n",
        "  fig.update_layout(bargap=0.2)\n",
        "  fig.show()"
      ],
      "metadata": {
        "id": "e4tDH9CQLttL"
      },
      "execution_count": null,
      "outputs": []
    },
    {
      "cell_type": "code",
      "source": [
        "# plot distribution of burn rate on the basis of designation\n",
        "fig = px.line(burnoutDf,y=\"Burn Rate\",color=\"Designation\",title=\"Burn Rate on the basis of Designation\",color_discrete_sequence=px.colors.qualitative.Pastel1)\n",
        "fig.update_layout(bargap=0.2)\n",
        "fig.show()"
      ],
      "metadata": {
        "id": "tcEYfajrNZXd"
      },
      "execution_count": null,
      "outputs": []
    },
    {
      "cell_type": "code",
      "source": [
        "# plot distribution of burn rate on the basis of gender\n",
        "fig = px.line(burnoutDf,y=\"Burn Rate\",color=\"Gender\",title=\"Burn Rate on the basis of Gender\",color_discrete_sequence=px.colors.qualitative.Pastel1)\n",
        "fig.update_layout(bargap=0.2)\n",
        "fig.show()"
      ],
      "metadata": {
        "id": "7l2YsDl3PBwH"
      },
      "execution_count": null,
      "outputs": []
    },
    {
      "cell_type": "code",
      "source": [
        "# plot distribution of mental fatigue score on the basis of designation\n",
        "fig = px.line(burnoutDf,y=\"Mental Fatigue Score\",color=\"Designation\",title=\"Mental Fatigue Score vs Designation\",color_discrete_sequence=px.colors.qualitative.Pastel1)\n",
        "fig.update_layout(bargap=0.2)\n",
        "fig.show()"
      ],
      "metadata": {
        "id": "J_NupH4aPag2"
      },
      "execution_count": null,
      "outputs": []
    },
    {
      "cell_type": "code",
      "source": [
        "#plot distribution of \"destination vs mental fatigue\" as per company type, burn rate and gender\n",
        "sns.relplot(\n",
        "    data=burnoutDf, x=\"Designation\", y=\"Mental Fatigue Score\",col=\"Company Type\",\n",
        "    hue=\"Company Type\", size=\"Burn Rate\", style=\"Gender\",\n",
        "    palette=[\"g\", \"r\"], sizes=(50, 200)\n",
        "\n",
        ")"
      ],
      "metadata": {
        "id": "W31Kc52bP5ut"
      },
      "execution_count": null,
      "outputs": []
    },
    {
      "cell_type": "markdown",
      "source": [
        "#Label Encoding"
      ],
      "metadata": {
        "id": "UknwEYsORkUI"
      }
    },
    {
      "cell_type": "code",
      "source": [
        "# label encoding and assign in new variable\n",
        "from sklearn import preprocessing\n",
        "Label_encode=preprocessing.LabelEncoder()"
      ],
      "metadata": {
        "id": "3yvmNnlkRp9i"
      },
      "execution_count": null,
      "outputs": []
    },
    {
      "cell_type": "code",
      "source": [
        "#assign in new variable\n",
        "burnoutDf['GenderLabel'] = Label_encode.fit_transform(burnoutDf['Gender'].values)\n",
        "burnoutDf['Company_TypeLabel'] = Label_encode.fit_transform(burnoutDf['Company Type'].values)\n",
        "burnoutDf['WFH_Setup_AvailableLabel'] = Label_encode.fit_transform(burnoutDf['WFH Setup Available'].values)"
      ],
      "metadata": {
        "id": "rGxOUoLXSEyC"
      },
      "execution_count": null,
      "outputs": []
    },
    {
      "cell_type": "code",
      "source": [
        "#check assigned values\n",
        "gn=burnoutDf.groupby('Gender')\n",
        "gn=gn['GenderLabel']\n",
        "gn.first()"
      ],
      "metadata": {
        "id": "uhAU_D3SXiXU"
      },
      "execution_count": null,
      "outputs": []
    },
    {
      "cell_type": "code",
      "source": [
        "#check assigned values\n",
        "ct=burnoutDf.groupby('Company Type')\n",
        "ct=ct['Company_TypeLabel']\n",
        "ct.first()"
      ],
      "metadata": {
        "id": "7Kl3jA-UX5T2"
      },
      "execution_count": null,
      "outputs": []
    },
    {
      "cell_type": "code",
      "source": [
        "#check assigned values\n",
        "wsa=burnoutDf.groupby('WFH Setup Available')\n",
        "wsa=wsa['WFH_Setup_AvailableLabel']\n",
        "wsa.first()"
      ],
      "metadata": {
        "id": "yHKAFt3TYKN9"
      },
      "execution_count": null,
      "outputs": []
    },
    {
      "cell_type": "code",
      "source": [
        "#show last 10 rows\n",
        "burnoutDf.tail(10)"
      ],
      "metadata": {
        "id": "EqDEW8_bY3bM"
      },
      "execution_count": null,
      "outputs": []
    },
    {
      "cell_type": "markdown",
      "source": [
        "#Feature Selection"
      ],
      "metadata": {
        "id": "-VVdCxzLZIXg"
      }
    },
    {
      "cell_type": "code",
      "source": [
        "Columns=['Designation', 'Resource Allocation', 'Mental Fatigue Score',\n",
        "         'GenderLabel', 'Company_TypeLabel', 'WFH_Setup_AvailableLabel']\n",
        "x=burnoutDf[Columns]\n",
        "y=burnoutDf['Burn Rate']"
      ],
      "metadata": {
        "id": "7428tI8FZO0X"
      },
      "execution_count": null,
      "outputs": []
    },
    {
      "cell_type": "code",
      "source": [
        "print(x)"
      ],
      "metadata": {
        "id": "oArPKW5waVhk"
      },
      "execution_count": null,
      "outputs": []
    },
    {
      "cell_type": "code",
      "source": [
        "print(y)"
      ],
      "metadata": {
        "id": "GWWHewAwaYye"
      },
      "execution_count": null,
      "outputs": []
    },
    {
      "cell_type": "markdown",
      "source": [
        "#Implementing PCA"
      ],
      "metadata": {
        "id": "ZMX6_KNealT8"
      }
    },
    {
      "cell_type": "code",
      "source": [
        "#principle component analysis\n",
        "from sklearn.decomposition import PCA\n",
        "\n",
        "pca=PCA(0.95)\n",
        "x_pca=pca.fit_transform(x)\n",
        "\n",
        "print(\"PCA shape of x is:\",x_pca.shape,\"and original shape is:\",x.shape)\n",
        "print(\"% of importance of selected features is:\",pca.explained_variance_ratio_)\n",
        "print(\"The number of features selected through PCA is:\",pca.n_components_)"
      ],
      "metadata": {
        "id": "NzJU9WlparZ2"
      },
      "execution_count": null,
      "outputs": []
    },
    {
      "cell_type": "markdown",
      "source": [
        "#Data Splitting"
      ],
      "metadata": {
        "id": "MRM8FC9Ib0ED"
      }
    },
    {
      "cell_type": "code",
      "source": [
        "#Data splitting in train and test\n",
        "from sklearn.model_selection import train_test_split\n",
        "x_train_pca,x_test,y_train,y_test=train_test_split(x_pca,y,test_size=0.25,random_state=10)"
      ],
      "metadata": {
        "id": "HOQMm1BTb4M8"
      },
      "execution_count": null,
      "outputs": []
    },
    {
      "cell_type": "code",
      "source": [
        "#print the shape of splitted data\n",
        "print(x_train_pca.shape,x_test.shape,y_train.shape,y_test.shape)"
      ],
      "metadata": {
        "id": "RCTDkAddcgCZ"
      },
      "execution_count": null,
      "outputs": []
    },
    {
      "cell_type": "markdown",
      "source": [
        "#Model Implementation\n",
        "Random Forest Regressor"
      ],
      "metadata": {
        "id": "7_nnfuHJdLMY"
      }
    },
    {
      "cell_type": "code",
      "source": [
        "from sklearn.metrics import r2_score"
      ],
      "metadata": {
        "id": "G_qVIBPXdbyW"
      },
      "execution_count": null,
      "outputs": []
    },
    {
      "cell_type": "code",
      "source": [
        "#Random Forest Regressor\n",
        "from sklearn.ensemble import RandomForestRegressor\n",
        "\n",
        "rf_model=RandomForestRegressor()\n",
        "rf_model.fit(x_train_pca,y_train)\n",
        "\n",
        "train_pred_rf=rf_model.predict(x_train_pca)\n",
        "train_r2=r2_score(y_train, train_pred_rf)\n",
        "test_pred_rf=rf_model.predict(x_test)\n",
        "test_r2=r2_score(y_test,test_pred_rf)\n",
        "#Accuracy score\n",
        "print(\"Accuracy score of train data:\"+str(round(100*train_r2,4))+\"%\")\n",
        "print(\"Accuracy score of test data:\"+str(round(100*test_r2,4))+\"%\")"
      ],
      "metadata": {
        "id": "DVb0_K4SdrKN",
        "colab": {
          "base_uri": "https://localhost:8080/"
        },
        "outputId": "b300d60c-a783-4b68-dd9c-fadcecbabefb"
      },
      "execution_count": 49,
      "outputs": [
        {
          "metadata": {
            "tags": null
          },
          "name": "stdout",
          "output_type": "stream",
          "text": [
            "Accuracy score of train data:91.1904%\n",
            "Accuracy score of test data:83.8905%\n"
          ]
        }
      ]
    },
    {
      "cell_type": "markdown",
      "source": [
        "\n",
        "#AdaBoost Regressor"
      ],
      "metadata": {
        "id": "6-5sQiIniAg_"
      }
    },
    {
      "cell_type": "code",
      "source": [
        "#AdaBoost Regressor\n",
        "from sklearn.ensemble import AdaBoostRegressor\n",
        "\n",
        "abr_model=AdaBoostRegressor()\n",
        "abr_model.fit(x_train_pca,y_train)\n",
        "\n",
        "train_pred_adboost=abr_model.predict(x_train_pca)\n",
        "train_r2=r2_score(y_train, train_pred_adboost)\n",
        "test_pred_adaboost=abr_model.predict(x_test)\n",
        "test_r2=r2_score(y_test,test_pred_adaboost)\n",
        "\n",
        "#Accuracy score\n",
        "print(\"Accuracy score of train data:\"+str(round(100*train_r2,4))+\"%\")\n",
        "print(\"Accuracy score of test data:\"+str(round(100*test_r2,4))+\"%\")"
      ],
      "metadata": {
        "id": "H08ppw_Ag9Qk",
        "colab": {
          "base_uri": "https://localhost:8080/"
        },
        "outputId": "2ee9f58f-44ac-4653-d31c-8721186dac6d"
      },
      "execution_count": 50,
      "outputs": [
        {
          "metadata": {
            "tags": null
          },
          "name": "stdout",
          "output_type": "stream",
          "text": [
            "Accuracy score of train data:78.6014%\n",
            "Accuracy score of test data:78.0643%\n"
          ]
        }
      ]
    }
  ]
}